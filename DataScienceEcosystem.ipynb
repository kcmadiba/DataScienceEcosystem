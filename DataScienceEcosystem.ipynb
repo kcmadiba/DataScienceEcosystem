{
  "metadata": {
    "kernelspec": {
      "name": "python",
      "display_name": "Python (Pyodide)",
      "language": "python"
    },
    "language_info": {
      "codemirror_mode": {
        "name": "python",
        "version": 3
      },
      "file_extension": ".py",
      "mimetype": "text/x-python",
      "name": "python",
      "nbconvert_exporter": "python",
      "pygments_lexer": "ipython3",
      "version": "3.8"
    }
  },
  "nbformat_minor": 5,
  "nbformat": 4,
  "cells": [
    {
      "id": "6387f954-acd3-4873-9ae8-7859b5f62cc6",
      "cell_type": "markdown",
      "source": "# Data Science Tools and Ecosystem",
      "metadata": {}
    },
    {
      "id": "eafc9a5e-a197-4ea1-9107-8e360e0cb8eb",
      "cell_type": "markdown",
      "source": "In this notebook, Data Science Tools and Ecosystem are summarized.",
      "metadata": {}
    },
    {
      "id": "5f9290d9-1ffa-49a8-967d-a6c737a7d4fe",
      "cell_type": "markdown",
      "source": "Some of the popular languages that Data Scientists use are:\n1. Python\n2. R\n3. SQL",
      "metadata": {}
    },
    {
      "id": "27d4adaa-6add-45ea-8eaf-6c484ba829be",
      "cell_type": "markdown",
      "source": "Some of the commonly used libraries used by Data Scientists include:\n1. Pandas\n2. NumPy\n3. Matplotlib",
      "metadata": {}
    },
    {
      "id": "549983c0-80ad-41d7-8cba-21eb9b870425",
      "cell_type": "markdown",
      "source": "| Data Science Tools |\n|--------------------|\n| Jupyter            |\n| RStudio            |\n| Apache Spark       |",
      "metadata": {}
    },
    {
      "id": "ff3f388c-e028-497e-8777-674bda06e4cb",
      "cell_type": "markdown",
      "source": "### Below are a few examples of evaluating arithmetic expressions in Python.",
      "metadata": {}
    },
    {
      "id": "a52c3613-442a-4614-ad9d-5300633e8478",
      "cell_type": "code",
      "source": "# This is a simple arithmetic expression to multiply then add integers.\n\n(3*4)+5",
      "metadata": {
        "trusted": true
      },
      "outputs": [
        {
          "execution_count": 9,
          "output_type": "execute_result",
          "data": {
            "text/plain": "17"
          },
          "metadata": {}
        }
      ],
      "execution_count": 9
    },
    {
      "id": "ce2e7bfb-d565-4e6d-a9d9-df3bd22e16c0",
      "cell_type": "code",
      "source": "# This will convert 200 minutes to hours by dividing by 60.\n\n200/60\n",
      "metadata": {
        "trusted": true
      },
      "outputs": [
        {
          "execution_count": 10,
          "output_type": "execute_result",
          "data": {
            "text/plain": "3.3333333333333335"
          },
          "metadata": {}
        }
      ],
      "execution_count": 10
    },
    {
      "id": "e6bf25ca-6cdb-450c-9221-a6f32e1d8706",
      "cell_type": "markdown",
      "source": "**Objectives:**\n- List popular languages for Data Science.\n- List common libraries used by Data Scientists.\n- Provide examples of simple arithmetic operations in Python.",
      "metadata": {}
    },
    {
      "id": "cf249cf0-6e7b-4211-b199-bfdf0a06f826",
      "cell_type": "markdown",
      "source": "## Author\nKatlego Madiba",
      "metadata": {}
    },
    {
      "id": "72d3733f-725f-488d-9f0b-f4f0fb663ec6",
      "cell_type": "code",
      "source": "",
      "metadata": {
        "trusted": true
      },
      "outputs": [],
      "execution_count": null
    }
  ]
}